{
 "cells": [
  {
   "cell_type": "code",
   "execution_count": 2,
   "metadata": {},
   "outputs": [],
   "source": [
    "import pandas as pd"
   ]
  },
  {
   "cell_type": "code",
   "execution_count": 3,
   "metadata": {},
   "outputs": [],
   "source": [
    "df = pd.read_json(\"Indian_Number_plates.json\",orient='columns',lines = 'true')"
   ]
  },
  {
   "cell_type": "code",
   "execution_count": 4,
   "metadata": {},
   "outputs": [],
   "source": [
    "anno = df['annotation']"
   ]
  },
  {
   "cell_type": "code",
   "execution_count": 5,
   "metadata": {},
   "outputs": [
    {
     "data": {
      "text/plain": [
       "0    [{'label': ['number_plate'], 'notes': '', 'poi...\n",
       "1    [{'label': ['number_plate'], 'notes': '', 'poi...\n",
       "2    [{'label': ['number_plate'], 'notes': '', 'poi...\n",
       "3    [{'label': ['number_plate'], 'notes': '', 'poi...\n",
       "4    [{'label': ['number_plate'], 'notes': '', 'poi...\n",
       "Name: annotation, dtype: object"
      ]
     },
     "execution_count": 5,
     "metadata": {},
     "output_type": "execute_result"
    }
   ],
   "source": [
    "anno.head()"
   ]
  },
  {
   "cell_type": "code",
   "execution_count": 6,
   "metadata": {},
   "outputs": [
    {
     "data": {
      "text/plain": [
       "[{'label': ['number_plate'],\n",
       "  'notes': '',\n",
       "  'points': [{'x': 0.16194331983805602, 'y': 0.850779510022271},\n",
       "   {'x': 0.582995951417004, 'y': 1}],\n",
       "  'imageWidth': 494,\n",
       "  'imageHeight': 449}]"
      ]
     },
     "execution_count": 6,
     "metadata": {},
     "output_type": "execute_result"
    }
   ],
   "source": [
    "anno[1]"
   ]
  },
  {
   "cell_type": "code",
   "execution_count": 7,
   "metadata": {},
   "outputs": [
    {
     "data": {
      "text/plain": [
       "806"
      ]
     },
     "execution_count": 7,
     "metadata": {},
     "output_type": "execute_result"
    }
   ],
   "source": [
    "anno[0][0]['imageWidth']"
   ]
  },
  {
   "cell_type": "code",
   "execution_count": 8,
   "metadata": {},
   "outputs": [
    {
     "data": {
      "text/plain": [
       "0.582995951417004"
      ]
     },
     "execution_count": 8,
     "metadata": {},
     "output_type": "execute_result"
    }
   ],
   "source": [
    "anno[1][0]['points'][0] ['x']\n",
    "anno[1][0]['points'][1] ['x']\n"
   ]
  },
  {
   "cell_type": "code",
   "execution_count": 9,
   "metadata": {},
   "outputs": [],
   "source": [
    "import array"
   ]
  },
  {
   "cell_type": "code",
   "execution_count": 12,
   "metadata": {},
   "outputs": [],
   "source": [
    "b = []\n",
    "for i in range(200):\n",
    "    midx = (anno[i][0]['points'][0]['x']+anno[i][0]['points'][1]['x'])*0.5\n",
    "    midy = (anno[i][0]['points'][0]['y']+anno[i][0]['points'][1]['y'])*0.5\n",
    "    dw = 1/anno[i][0][\"imageWidth\"]\n",
    "    dh = 1/anno[i][0][\"imageHeight\"]\n",
    "    w = (anno[i][0]['points'][1]['x']-anno[i][0]['points'][0]['x'])\n",
    "    h = (anno[i][0]['points'][1]['y']-anno[i][0]['points'][0]['y'])\n",
    "    b.append(\"0\" +\" \"+ str(midx)+\" \"+str(midy)+\" \"+str(w)+\" \"+str(h))\n",
    "    "
   ]
  },
  {
   "cell_type": "code",
   "execution_count": 13,
   "metadata": {},
   "outputs": [
    {
     "data": {
      "text/plain": [
       "'0 0.7952853598014886 0.6384120171673815 0.14640198511166302 0.10085836909871293'"
      ]
     },
     "execution_count": 13,
     "metadata": {},
     "output_type": "execute_result"
    }
   ],
   "source": [
    "b[0]"
   ]
  },
  {
   "cell_type": "code",
   "execution_count": 14,
   "metadata": {},
   "outputs": [],
   "source": [
    "k = 1\n",
    "for i in range(200):\n",
    "    f = open(str(k)+\".txt\", \"w\")\n",
    "    f.write(b[i])\n",
    "    k = k + 1 "
   ]
  },
  {
   "cell_type": "code",
   "execution_count": null,
   "metadata": {},
   "outputs": [],
   "source": []
  }
 ],
 "metadata": {
  "kernelspec": {
   "display_name": "Python 3",
   "language": "python",
   "name": "python3"
  },
  "language_info": {
   "codemirror_mode": {
    "name": "ipython",
    "version": 3
   },
   "file_extension": ".py",
   "mimetype": "text/x-python",
   "name": "python",
   "nbconvert_exporter": "python",
   "pygments_lexer": "ipython3",
   "version": "3.6.5"
  }
 },
 "nbformat": 4,
 "nbformat_minor": 2
}
